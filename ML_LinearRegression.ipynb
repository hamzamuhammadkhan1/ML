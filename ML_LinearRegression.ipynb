import pandas as pd
import numpy as np
from sklearn import linear_model
import matplotlib.pyplot as plt

df = pd.read_csv('D:/DS_AI/ML/homeprices.csv')
df.sample(2)

plt.xlabel('area')
plt.ylabel('price')
plt.scatter(df.area,df.price,color='red',marker='*')